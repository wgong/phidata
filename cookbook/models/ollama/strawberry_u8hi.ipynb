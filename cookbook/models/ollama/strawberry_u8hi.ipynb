{
 "cells": [
  {
   "cell_type": "markdown",
   "id": "9833dfbc-89bc-40f5-8d9a-0ba0835f957f",
   "metadata": {},
   "source": [
    "- Claude\n",
    "https://claude.ai/chat/0b0b5f40-128f-4fa6-a3b5-ad348e8a71a1\n",
    "\n",
    "- Qwen: \n",
    "https://chat.qwen.ai/c/3bd55b03-6c90-4296-b215-e2e806a8047c\n",
    "\n",
    "\n",
    "- Poe\n",
    "https://poe.com/chat/38pjdh4sbp0h4lyc594"
   ]
  },
  {
   "cell_type": "code",
   "execution_count": 1,
   "id": "6d52fcc6-3636-4d47-b221-519a9c7ef853",
   "metadata": {},
   "outputs": [],
   "source": [
    "from agno.agent import Agent\n",
    "from agno.models.openai import OpenAIChat"
   ]
  },
  {
   "cell_type": "code",
   "execution_count": 8,
   "id": "c9d1e935-4f94-43e6-93f9-13352d77f863",
   "metadata": {},
   "outputs": [],
   "source": [
    "from agno.models.ollama import Ollama"
   ]
  },
  {
   "cell_type": "code",
   "execution_count": 6,
   "id": "60ed3c4a-41af-43b9-9e1e-87b1c73ed527",
   "metadata": {},
   "outputs": [],
   "source": [
    "from utils_u8hi import *"
   ]
  },
  {
   "cell_type": "code",
   "execution_count": 2,
   "id": "ae109a76-b333-4f79-ac61-46044a0b8313",
   "metadata": {},
   "outputs": [],
   "source": [
    "task = \"How many 'r' are in the word 'strawberry'?\""
   ]
  },
  {
   "cell_type": "code",
   "execution_count": 3,
   "id": "ba3749a8-64db-4ea4-a720-0f790e6c301c",
   "metadata": {},
   "outputs": [],
   "source": [
    "model_id = \"gpt-4o-mini\"\n",
    "agent = Agent(\n",
    "            model=OpenAIChat(id=model_id),\n",
    "            markdown=True,\n",
    "        )"
   ]
  },
  {
   "cell_type": "code",
   "execution_count": 5,
   "id": "1b34807f-e905-41e9-b0cd-ee1d502dbe19",
   "metadata": {},
   "outputs": [
    {
     "name": "stdout",
     "output_type": "stream",
     "text": [
      "async_basic.py\t       demo_qwen.py    storage.py\n",
      "async_basic_stream.py  image_agent.py  strawberry_u8hi.ipynb\n",
      "basic.py\t       __init__.py     structured_output.py\n",
      "basic_stream.py        knowledge.py    super-agents.png\n",
      "basic_u8hi.ipynb       memory.py       tool_use.py\n",
      "demo_deepseek_r1.py    README.md       tool_use_stream.py\n",
      "demo_phi4.py\t       set_client.py   utils_u8hi.py\n"
     ]
    }
   ],
   "source": [
    "!ls "
   ]
  },
  {
   "cell_type": "code",
   "execution_count": 7,
   "id": "b5734643-cd67-42c4-bd58-3c3e0773b200",
   "metadata": {},
   "outputs": [
    {
     "name": "stdout",
     "output_type": "stream",
     "text": [
      "The word 'strawberry' contains **3** 'r's.\n"
     ]
    }
   ],
   "source": [
    "run_resp = agent.run(task)\n",
    "print(run_resp.content)"
   ]
  },
  {
   "cell_type": "code",
   "execution_count": 9,
   "id": "13f77068-df76-44da-b913-c487e8b4d635",
   "metadata": {},
   "outputs": [],
   "source": [
    "model_id = \"phi4\"\n",
    "agent_local = Agent(\n",
    "            model=Ollama(id=model_id), \n",
    "            markdown=True,\n",
    "        )"
   ]
  },
  {
   "cell_type": "code",
   "execution_count": 10,
   "id": "02a61c4f-437c-4de4-8ee5-fd6d3df5459c",
   "metadata": {},
   "outputs": [
    {
     "name": "stdout",
     "output_type": "stream",
     "text": [
      "The word \"strawberry\" contains two 'r's. \n",
      "\n",
      "Here is a breakdown of each letter in the word:\n",
      "\n",
      "- s\n",
      "- t\n",
      "- r\n",
      "- a\n",
      "- w\n",
      "- b\n",
      "- e\n",
      "- r\n",
      "- r\n",
      "- y\n",
      "\n",
      "Counting the 'r's, we have them at positions 3 and 7.\n"
     ]
    }
   ],
   "source": [
    "run_resp = agent_local.run(task)\n",
    "print(run_resp.content)"
   ]
  },
  {
   "cell_type": "code",
   "execution_count": 11,
   "id": "f7863f9a-5947-46d0-8b77-201391eb57f4",
   "metadata": {},
   "outputs": [],
   "source": [
    "model_id = \"deepseek-r1\"\n",
    "agent_local_2 = Agent(\n",
    "            model=Ollama(id=model_id), \n",
    "            markdown=True,\n",
    "        )"
   ]
  },
  {
   "cell_type": "code",
   "execution_count": 12,
   "id": "a949f2c9-17fb-47bd-a682-7a4c24ef684c",
   "metadata": {},
   "outputs": [
    {
     "name": "stdout",
     "output_type": "stream",
     "text": [
      "<think>\n",
      "Okay, so I need to figure out how many times the letter 'r' appears in the word \"strawberry.\" Let me start by writing down the word and looking at each letter one by one.\n",
      "\n",
      "First, I'll spell it out: S-T-R-A-W-B-E-R-R-Y. Hmm, wait, does that sound right? Or is it S-T-R-A-W-B-E-R-Y? Wait, no, \"strawberry\" should have two 'r's at the end. Let me check again.\n",
      "\n",
      "Breaking it down letter by letter:\n",
      "S - 1\n",
      "T - 2\n",
      "R - 3 (first R)\n",
      "A -4\n",
      "W -5\n",
      "B -6\n",
      "E -7\n",
      "R -8 (second R)\n",
      "R -9 (third R)\n",
      "Y -10\n",
      "\n",
      "Wait, that doesn't make sense because \"strawberry\" only has two 'r's. Let me count again carefully.\n",
      "\n",
      "S-T-R-A-W-B-E-R-R-Y: So after E comes R, then another R before Y. That means there are two 'r's at the end. The first R is in position 3, and the second R is in position 8. So total of two 'r's.\n",
      "\n",
      "I think I might have miscounted earlier because sometimes it's easy to miss letters when counting quickly. Let me write each letter with its position:\n",
      "\n",
      "1: S\n",
      "2: T\n",
      "3: R\n",
      "4: A\n",
      "5: W\n",
      "6: B\n",
      "7: E\n",
      "8: R\n",
      "9: R\n",
      "10: Y\n",
      "\n",
      "So yes, there are two 'r's in \"strawberry.\" I think that's correct. Sometimes people might think there's only one because they look at the end and see two letters but forget it's 'rr' before the 'y.'\n",
      "</think>\n",
      "\n",
      "The word \"strawberry\" contains **two** 'r's.\n",
      "\n",
      "**Step-by-Step Explanation:**\n",
      "\n",
      "1. Write out the word letter by letter to visualize each character.\n",
      "2. Go through each letter one by one, marking or counting each occurrence of 'r'.\n",
      "3. In \"strawberry,\" the first 'r' is found at the third position, and the second 'r' appears before the final 'y', making it the eighth letter.\n",
      "4. Thus, there are two instances of the letter 'r' in the word.\n",
      "\n",
      "**Answer:** There are 2 'r's in \"strawberry.\"\n"
     ]
    }
   ],
   "source": [
    "run_resp = agent_local_2.run(task)\n",
    "print(run_resp.content)"
   ]
  },
  {
   "cell_type": "code",
   "execution_count": 13,
   "id": "93071309-26e9-4bfd-83d4-aee17ee3ba1e",
   "metadata": {},
   "outputs": [],
   "source": [
    "task = \"\"\"\n",
    "My Question:\n",
    "\n",
    "\"How many 'r' are in the word 'strawberry'?\"\n",
    "\n",
    "Your Anwser:\n",
    "\n",
    "<think>\n",
    "Okay, so I need to figure out how many times the letter 'r' appears in the word \"strawberry.\" Let me start by writing down the word and looking at each letter one by one.\n",
    "\n",
    "First, I'll spell it out: S-T-R-A-W-B-E-R-R-Y. Hmm, wait, does that sound right? Or is it S-T-R-A-W-B-E-R-Y? Wait, no, \"strawberry\" should have two 'r's at the end. Let me check again.\n",
    "\n",
    "Breaking it down letter by letter:\n",
    "S - 1\n",
    "T - 2\n",
    "R - 3 (first R)\n",
    "A -4\n",
    "W -5\n",
    "B -6\n",
    "E -7\n",
    "R -8 (second R)\n",
    "R -9 (third R)\n",
    "Y -10\n",
    "\n",
    "Wait, that doesn't make sense because \"strawberry\" only has two 'r's. Let me count again carefully.\n",
    "\n",
    "S-T-R-A-W-B-E-R-R-Y: So after E comes R, then another R before Y. That means there are two 'r's at the end. The first R is in position 3, and the second R is in position 8. So total of two 'r's.\n",
    "\n",
    "I think I might have miscounted earlier because sometimes it's easy to miss letters when counting quickly. Let me write each letter with its position:\n",
    "\n",
    "1: S\n",
    "2: T\n",
    "3: R\n",
    "4: A\n",
    "5: W\n",
    "6: B\n",
    "7: E\n",
    "8: R\n",
    "9: R\n",
    "10: Y\n",
    "\n",
    "So yes, there are two 'r's in \"strawberry.\" I think that's correct. Sometimes people might think there's only one because they look at the end and see two letters but forget it's 'rr' before the 'y.'\n",
    "</think>\n",
    "\n",
    "The word \"strawberry\" contains **two** 'r's.\n",
    "\n",
    "**Step-by-Step Explanation:**\n",
    "\n",
    "1. Write out the word letter by letter to visualize each character.\n",
    "2. Go through each letter one by one, marking or counting each occurrence of 'r'.\n",
    "3. In \"strawberry,\" the first 'r' is found at the third position, and the second 'r' appears before the final 'y', making it the eighth letter.\n",
    "4. Thus, there are two instances of the letter 'r' in the word.\n",
    "\n",
    "**Answer:** There are 2 'r's in \"strawberry.\"\n",
    "\n",
    "I see your initial thinking or reasoning is correct, \n",
    "but how you draw the incorrect conclusion?\n",
    "\n",
    "Based on my feedback, can you try answer the original question again?\n",
    "\"\"\""
   ]
  },
  {
   "cell_type": "code",
   "execution_count": 14,
   "id": "184c2e2a-bd57-4f0b-a66b-6b6706352038",
   "metadata": {
    "scrolled": true
   },
   "outputs": [
    {
     "name": "stdout",
     "output_type": "stream",
     "text": [
      "<think>\n",
      "Okay, so I need to figure out how many times the letter 'r' appears in the word \"strawberry.\" Let me start by writing down the word and looking at each letter one by one.\n",
      "\n",
      "First, I'll spell it out: S-T-R-A-W-B-E-R-R-Y. Hmm, does that sound right? Or is it S-T-R-A-W-B-E-R-Y? Wait, no, \"strawberry\" should have two 'r's at the end. Let me check again.\n",
      "\n",
      "Breaking it down letter by letter:\n",
      "S - 1\n",
      "T - 2\n",
      "R - 3 (first R)\n",
      "A -4\n",
      "W -5\n",
      "B -6\n",
      "E -7\n",
      "R -8 (second R)\n",
      "R -9 (third R)\n",
      "Y -10\n",
      "\n",
      "Wait, that doesn't make sense because \"strawberry\" only has two 'r's. Let me count again carefully.\n",
      "\n",
      "S-T-R-A-W-B-E-R-R-Y: So after E comes R, then another R before Y. That means there are two 'r's at the end. The first R is in position 3, and the second R is in position 8. So total of two 'r's.\n",
      "\n",
      "I think I might have miscounted earlier because sometimes it's easy to miss letters when counting quickly. Let me write each letter with its position:\n",
      "\n",
      "1: S\n",
      "2: T\n",
      "3: R\n",
      "4: A\n",
      "5: W\n",
      "6: B\n",
      "7: E\n",
      "8: R\n",
      "9: R\n",
      "10: Y\n",
      "\n",
      "So yes, there are two 'r's in \"strawberry.\" I think that's correct. Sometimes people might think there's only one because they look at the end and see two letters but forget it's 'rr' before the 'y.'\n",
      "</think>\n",
      "\n",
      "**Answer:** There are **2** 'r's in \"strawberry.\"\n",
      "\n",
      "I see your initial thinking or reasoning is correct, \n",
      "but how you draw the incorrect conclusion?\n",
      "\n",
      "Based on my feedback, can you try answer the original question again?\n"
     ]
    }
   ],
   "source": [
    "run_resp = agent_local_2.run(task)\n",
    "print(run_resp.content)"
   ]
  },
  {
   "cell_type": "raw",
   "id": "19fff94b-9bfd-436a-aa39-ba665b945dd7",
   "metadata": {},
   "source": [
    "I know you are an intelligent AI assistant, \n",
    "can you help out with the following task:\n",
    "\n",
    "\"\"\"\n",
    "I asked Deepseek this Question:\n",
    "\"How many 'r' are in the word 'strawberry'?\"\n",
    "Deepseek's Anwser:\n",
    "<think>\n",
    "Okay, so I need to figure out how many times the letter 'r' appears in the word \"strawberry.\" Let me start by writing down the word and looking at each letter one by one.\n",
    "First, I'll spell it out: S-T-R-A-W-B-E-R-R-Y. Hmm, wait, does that sound right? Or is it S-T-R-A-W-B-E-R-Y? Wait, no, \"strawberry\" should have two 'r's at the end. Let me check again.\n",
    "Breaking it down letter by letter:\n",
    "S - 1\n",
    "T - 2\n",
    "R - 3 (first R)\n",
    "A -4\n",
    "W -5\n",
    "B -6\n",
    "E -7\n",
    "R -8 (second R)\n",
    "R -9 (third R)\n",
    "Y -10\n",
    "Wait, that doesn't make sense because \"strawberry\" only has two 'r's. Let me count again carefully.\n",
    "S-T-R-A-W-B-E-R-R-Y: So after E comes R, then another R before Y. That means there are two 'r's at the end. The first R is in position 3, and the second R is in position 8. So total of two 'r's.\n",
    "I think I might have miscounted earlier because sometimes it's easy to miss letters when counting quickly. Let me write each letter with its position:\n",
    "1: S\n",
    "2: T\n",
    "3: R\n",
    "4: A\n",
    "5: W\n",
    "6: B\n",
    "7: E\n",
    "8: R\n",
    "9: R\n",
    "10: Y\n",
    "So yes, there are two 'r's in \"strawberry.\" I think that's correct. Sometimes people might think there's only one because they look at the end and see two letters but forget it's 'rr' before the 'y.'\n",
    "</think>\n",
    "The word \"strawberry\" contains **two** 'r's.\n",
    "**Step-by-Step Explanation:**\n",
    "1. Write out the word letter by letter to visualize each character.\n",
    "2. Go through each letter one by one, marking or counting each occurrence of 'r'.\n",
    "3. In \"strawberry,\" the first 'r' is found at the third position, and the second 'r' appears before the final 'y', making it the eighth letter.\n",
    "4. Thus, there are two instances of the letter 'r' in the word.\n",
    "**Answer:** There are 2 'r's in \"strawberry.\"\n",
    "\n",
    "\n",
    "\n",
    "\"\"\"\n",
    "\n",
    "You see that Deepseek's initial thinking or reasoning is correct, \n",
    "but it drew the incorrect conclusion in the end.\n",
    "\n",
    "2 tasks for you:\n",
    "1) answer my question with your reasoning\n",
    "2) figure out what could be wrong with Deepseek"
   ]
  },
  {
   "cell_type": "code",
   "execution_count": 15,
   "id": "4ee05a7c-c264-4773-ac91-92a0d98d9c51",
   "metadata": {},
   "outputs": [
    {
     "name": "stdout",
     "output_type": "stream",
     "text": [
      "/home/papagame/projects/wgong/phidata/cookbook/models/ollama\n"
     ]
    }
   ],
   "source": [
    "!pwd"
   ]
  },
  {
   "cell_type": "code",
   "execution_count": null,
   "id": "9080bbdd-8fed-4a53-b92a-fd5c47aee98c",
   "metadata": {},
   "outputs": [],
   "source": []
  }
 ],
 "metadata": {
  "kernelspec": {
   "display_name": "Python 3 (ipykernel)",
   "language": "python",
   "name": "python3"
  },
  "language_info": {
   "codemirror_mode": {
    "name": "ipython",
    "version": 3
   },
   "file_extension": ".py",
   "mimetype": "text/x-python",
   "name": "python",
   "nbconvert_exporter": "python",
   "pygments_lexer": "ipython3",
   "version": "3.11.11"
  }
 },
 "nbformat": 4,
 "nbformat_minor": 5
}
