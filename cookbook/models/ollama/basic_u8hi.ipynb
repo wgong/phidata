{
 "cells": [
  {
   "cell_type": "code",
   "execution_count": 1,
   "id": "7c599ace-bccf-4808-985b-90430f428875",
   "metadata": {},
   "outputs": [],
   "source": [
    "from agno.agent import Agent, RunResponse  # noqa\n",
    "from agno.models.ollama import Ollama\n",
    "\n",
    "model_id = \"llama3.1\"\n",
    "agent = Agent(\n",
    "            model=Ollama(id=model_id), \n",
    "            markdown=True,\n",
    "        )"
   ]
  },
  {
   "cell_type": "code",
   "execution_count": 2,
   "id": "f961a785-a91b-446a-9d2c-7f8e5ed10944",
   "metadata": {},
   "outputs": [],
   "source": [
    "user_msg = \"write me a poem about Chinese character\"\n",
    "# agent.print_response(user_msg, stream=True)"
   ]
  },
  {
   "cell_type": "code",
   "execution_count": 3,
   "id": "dc6aa7d3-fb5d-4e14-a934-c64708b2049c",
   "metadata": {},
   "outputs": [
    {
     "name": "stdout",
     "output_type": "stream",
     "text": [
      "**The Silent Brushstrokes of the Past**\n",
      "\n",
      "In ancient lands, where characters roam,\n",
      "A world of symbols, born from the soul's home.\n",
      "Chinese calligraphy, a dance so fine,\n",
      "A blend of art and meaning, intertwined.\n",
      "\n",
      "The brushstrokes flow like a river's stream,\n",
      "As characters take shape, a story to beam.\n",
      "From _Jin_ to _Yu_, each one a tale to tell,\n",
      "Of a culture rich, with history to compel.\n",
      "\n",
      "The radicals, a key to understanding deep,\n",
      "A gateway to the language, secrets to keep.\n",
      "The strokes and lines, a symphony so grand,\n",
      "As the characters come alive, in this mystic land.\n",
      "\n",
      "In **Xuán**'s curved form, we find serenity's peace,\n",
      "While _Hua_ 's bold lines evoke strength and release.\n",
      "The character of _Jiāng_, a river's gentle flow,\n",
      "Reminds us of life's journey, as the waters go.\n",
      "\n",
      "With every stroke, a story unfolds,\n",
      "Of a people's history, their hearts enfolded.\n",
      "In Chinese characters, we find a world so vast,\n",
      "A testament to the beauty that will forever last.\n"
     ]
    }
   ],
   "source": [
    "# Get the response in a variable\n",
    "run: RunResponse = agent.run(user_msg)\n",
    "print(run.content)"
   ]
  },
  {
   "cell_type": "code",
   "execution_count": 4,
   "id": "ac1aeb50-4003-47f9-b120-8f176b177e9b",
   "metadata": {},
   "outputs": [
    {
     "name": "stdout",
     "output_type": "stream",
     "text": [
      "Why did the mathematician turn down the invitation to the party?\n",
      "\n",
      "Because he already had a 3.14 chance of meeting someone there, but it was just a pie in the sky!\n"
     ]
    }
   ],
   "source": [
    "user_msg = \"write me a joke about math Pi\"\n",
    "run_resp = agent.run(user_msg)\n",
    "print(run_resp.content)"
   ]
  },
  {
   "cell_type": "code",
   "execution_count": 5,
   "id": "fdfec7e4-0f38-4db0-acf8-0182ecac0209",
   "metadata": {},
   "outputs": [
    {
     "name": "stdout",
     "output_type": "stream",
     "text": [
      "**The Magical Story of Pi**\n",
      "\n",
      "Once upon a time, in a land far, far away, there was a beautiful island called Circleville. The island was shaped like a circle, and its people loved the number π (Pi) very much.\n",
      "\n",
      "You see, Pi is a magical number that never ends! It's like a never-ending story that goes on forever: 3.141592653589793...\n",
      "\n",
      "The residents of Circleville were amazed by this mysterious number. They wondered, \"What does it mean? Why is it so special?\"\n",
      "\n",
      "One curious boy named Max decided to go on a quest to discover the secrets of Pi. He packed his backpack with snacks and his favorite pencil, and set off towards the heart of the island.\n",
      "\n",
      "As he walked, he met a wise old man who introduced himself as Archimedes (after a famous mathematician from ancient times). Archimedes said, \"Ah, young Max! I've been waiting for you. Pi is a special number that helps us measure circles. It's like a secret code that makes our lives easier!\"\n",
      "\n",
      "Max was amazed and asked, \"But why does it go on forever?\" Archimedes smiled and said, \"Because the circle is infinite, my young friend! Just like how you can never reach the end of a beautiful beach, Pi keeps going and going.\"\n",
      "\n",
      "Together, Max and Archimedes started to explore the island. They measured the circumference (the distance around) of different circles and found that Pi was always there, helping them calculate the answers.\n",
      "\n",
      "As they walked along the shore, they met a friendly fisherman who said, \"Hey, guys! I use Pi all the time when I'm fishing. It helps me know how much rope to use so I can cast my net perfectly!\"\n",
      "\n",
      "Max's eyes widened with excitement. He realized that Pi was not just a weird number; it was actually helping people in his community every day.\n",
      "\n",
      "As the sun began to set, Max returned home, eager to share his newfound love for Pi with his friends and family. From that day on, he became known as the \"Pi Pioneer\" of Circleville!\n",
      "\n",
      "And you know what? You can be a Pi Pioneer too! By learning about this amazing number, you'll discover how it helps us in our daily lives, from building bridges to making delicious pizza pies.\n",
      "\n",
      "**The End**\n",
      "\n",
      "Remember, kiddo: Math is like an adventure that's full of surprises and mysteries waiting to be uncovered. And with Pi as your guide, the world will become a more magical place!\n"
     ]
    }
   ],
   "source": [
    "user_msg = \"tell me a nice story about math Pi to my 10 yrs old kid\"\n",
    "run_resp = agent.run(user_msg)\n",
    "print(run_resp.content)"
   ]
  },
  {
   "cell_type": "code",
   "execution_count": 6,
   "id": "21692979-1f24-49ee-bc78-a8f618597ab0",
   "metadata": {},
   "outputs": [
    {
     "name": "stdout",
     "output_type": "stream",
     "text": [
      "There are 2 'r's in the word 'strawberry'.\n"
     ]
    }
   ],
   "source": [
    "user_msg = \"How many 'r' are in the word 'strawberry'?\"\n",
    "run_resp = agent.run(user_msg)\n",
    "print(run_resp.content)"
   ]
  },
  {
   "cell_type": "code",
   "execution_count": null,
   "id": "7db92f9a-5b9c-4d03-9967-2c5013c210f7",
   "metadata": {},
   "outputs": [],
   "source": []
  }
 ],
 "metadata": {
  "kernelspec": {
   "display_name": "Python 3 (ipykernel)",
   "language": "python",
   "name": "python3"
  },
  "language_info": {
   "codemirror_mode": {
    "name": "ipython",
    "version": 3
   },
   "file_extension": ".py",
   "mimetype": "text/x-python",
   "name": "python",
   "nbconvert_exporter": "python",
   "pygments_lexer": "ipython3",
   "version": "3.11.11"
  }
 },
 "nbformat": 4,
 "nbformat_minor": 5
}
